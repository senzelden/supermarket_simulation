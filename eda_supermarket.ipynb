{
 "cells": [
  {
   "cell_type": "code",
   "execution_count": 1,
   "metadata": {},
   "outputs": [],
   "source": [
    "import pandas as pd\n",
    "import os"
   ]
  },
  {
   "cell_type": "markdown",
   "metadata": {},
   "source": [
    "### Load the data"
   ]
  },
  {
   "cell_type": "code",
   "execution_count": 2,
   "metadata": {},
   "outputs": [
    {
     "name": "stdout",
     "output_type": "stream",
     "text": [
      "friday.csv\n",
      "wednesday.csv\n",
      "monday.csv\n",
      "thursday.csv\n",
      "tuesday.csv\n"
     ]
    }
   ],
   "source": [
    "for file in os.listdir('data'):\n",
    "    print(file)"
   ]
  },
  {
   "cell_type": "code",
   "execution_count": 3,
   "metadata": {},
   "outputs": [],
   "source": [
    "df_list = []\n",
    "for file in os.listdir('data'):\n",
    "    if file.endswith('.csv'):\n",
    "        df = pd.read_csv(f\"data/{file}\", sep=\";\", parse_dates=True, index_col='timestamp')\n",
    "        df_list.append(df)\n",
    "df = pd.concat(df_list, sort=True)"
   ]
  },
  {
   "cell_type": "code",
   "execution_count": 4,
   "metadata": {},
   "outputs": [
    {
     "data": {
      "text/html": [
       "<div>\n",
       "<style scoped>\n",
       "    .dataframe tbody tr th:only-of-type {\n",
       "        vertical-align: middle;\n",
       "    }\n",
       "\n",
       "    .dataframe tbody tr th {\n",
       "        vertical-align: top;\n",
       "    }\n",
       "\n",
       "    .dataframe thead th {\n",
       "        text-align: right;\n",
       "    }\n",
       "</style>\n",
       "<table border=\"1\" class=\"dataframe\">\n",
       "  <thead>\n",
       "    <tr style=\"text-align: right;\">\n",
       "      <th></th>\n",
       "      <th>customer_no</th>\n",
       "      <th>location</th>\n",
       "    </tr>\n",
       "    <tr>\n",
       "      <th>timestamp</th>\n",
       "      <th></th>\n",
       "      <th></th>\n",
       "    </tr>\n",
       "  </thead>\n",
       "  <tbody>\n",
       "    <tr>\n",
       "      <th>2019-09-06 07:00:00</th>\n",
       "      <td>1</td>\n",
       "      <td>dairy</td>\n",
       "    </tr>\n",
       "    <tr>\n",
       "      <th>2019-09-06 07:00:00</th>\n",
       "      <td>2</td>\n",
       "      <td>drinks</td>\n",
       "    </tr>\n",
       "    <tr>\n",
       "      <th>2019-09-06 07:00:00</th>\n",
       "      <td>3</td>\n",
       "      <td>fruit</td>\n",
       "    </tr>\n",
       "    <tr>\n",
       "      <th>2019-09-06 07:01:00</th>\n",
       "      <td>2</td>\n",
       "      <td>checkout</td>\n",
       "    </tr>\n",
       "    <tr>\n",
       "      <th>2019-09-06 07:01:00</th>\n",
       "      <td>4</td>\n",
       "      <td>drinks</td>\n",
       "    </tr>\n",
       "    <tr>\n",
       "      <th>...</th>\n",
       "      <td>...</td>\n",
       "      <td>...</td>\n",
       "    </tr>\n",
       "    <tr>\n",
       "      <th>2019-09-03 21:47:00</th>\n",
       "      <td>1421</td>\n",
       "      <td>drinks</td>\n",
       "    </tr>\n",
       "    <tr>\n",
       "      <th>2019-09-03 21:47:00</th>\n",
       "      <td>1422</td>\n",
       "      <td>dairy</td>\n",
       "    </tr>\n",
       "    <tr>\n",
       "      <th>2019-09-03 21:48:00</th>\n",
       "      <td>1421</td>\n",
       "      <td>checkout</td>\n",
       "    </tr>\n",
       "    <tr>\n",
       "      <th>2019-09-03 21:49:00</th>\n",
       "      <td>1412</td>\n",
       "      <td>checkout</td>\n",
       "    </tr>\n",
       "    <tr>\n",
       "      <th>2019-09-03 21:50:00</th>\n",
       "      <td>1411</td>\n",
       "      <td>dairy</td>\n",
       "    </tr>\n",
       "  </tbody>\n",
       "</table>\n",
       "<p>24877 rows × 2 columns</p>\n",
       "</div>"
      ],
      "text/plain": [
       "                     customer_no  location\n",
       "timestamp                                 \n",
       "2019-09-06 07:00:00            1     dairy\n",
       "2019-09-06 07:00:00            2    drinks\n",
       "2019-09-06 07:00:00            3     fruit\n",
       "2019-09-06 07:01:00            2  checkout\n",
       "2019-09-06 07:01:00            4    drinks\n",
       "...                          ...       ...\n",
       "2019-09-03 21:47:00         1421    drinks\n",
       "2019-09-03 21:47:00         1422     dairy\n",
       "2019-09-03 21:48:00         1421  checkout\n",
       "2019-09-03 21:49:00         1412  checkout\n",
       "2019-09-03 21:50:00         1411     dairy\n",
       "\n",
       "[24877 rows x 2 columns]"
      ]
     },
     "execution_count": 4,
     "metadata": {},
     "output_type": "execute_result"
    }
   ],
   "source": [
    "df"
   ]
  },
  {
   "cell_type": "code",
   "execution_count": 5,
   "metadata": {},
   "outputs": [],
   "source": [
    "df['time'] = df.index.time"
   ]
  },
  {
   "cell_type": "code",
   "execution_count": 6,
   "metadata": {},
   "outputs": [],
   "source": [
    "df['day'] = df.index.day_name()"
   ]
  },
  {
   "cell_type": "code",
   "execution_count": 7,
   "metadata": {},
   "outputs": [],
   "source": [
    "df.sort_index(inplace=True)"
   ]
  },
  {
   "cell_type": "code",
   "execution_count": 8,
   "metadata": {},
   "outputs": [
    {
     "data": {
      "text/plain": [
       "timestamp\n",
       "2019-09-02 07:03:00       1\n",
       "2019-09-02 07:03:00       2\n",
       "2019-09-02 07:04:00       4\n",
       "2019-09-02 07:04:00       8\n",
       "2019-09-02 07:04:00       7\n",
       "                       ... \n",
       "2019-09-06 21:50:00    1507\n",
       "2019-09-06 21:50:00    1508\n",
       "2019-09-06 21:50:00    1509\n",
       "2019-09-06 21:50:00    1510\n",
       "2019-09-06 21:50:00    1496\n",
       "Name: customer_no, Length: 24877, dtype: object"
      ]
     },
     "execution_count": 8,
     "metadata": {},
     "output_type": "execute_result"
    }
   ],
   "source": [
    "df['customer_no'].astype(str)"
   ]
  },
  {
   "cell_type": "code",
   "execution_count": 9,
   "metadata": {},
   "outputs": [],
   "source": [
    "df['customer_id'] = df['day'] + \"-\" + df['customer_no'].astype(str)"
   ]
  },
  {
   "cell_type": "code",
   "execution_count": 10,
   "metadata": {},
   "outputs": [
    {
     "data": {
      "text/plain": [
       "timestamp\n",
       "2019-09-02 07:03:00       Monday-1\n",
       "2019-09-02 07:03:00       Monday-2\n",
       "2019-09-02 07:04:00       Monday-4\n",
       "2019-09-02 07:04:00       Monday-8\n",
       "2019-09-02 07:04:00       Monday-7\n",
       "                          ...     \n",
       "2019-09-06 21:50:00    Friday-1507\n",
       "2019-09-06 21:50:00    Friday-1508\n",
       "2019-09-06 21:50:00    Friday-1509\n",
       "2019-09-06 21:50:00    Friday-1510\n",
       "2019-09-06 21:50:00    Friday-1496\n",
       "Name: customer_id, Length: 24877, dtype: object"
      ]
     },
     "execution_count": 10,
     "metadata": {},
     "output_type": "execute_result"
    }
   ],
   "source": [
    "df['customer_id']"
   ]
  },
  {
   "cell_type": "markdown",
   "metadata": {},
   "source": [
    "### Set 'section_order'\n",
    "(first, following, ...)"
   ]
  },
  {
   "cell_type": "code",
   "execution_count": 11,
   "metadata": {},
   "outputs": [],
   "source": [
    "enter_datetimes = df.reset_index().groupby('customer_id')['timestamp'].min()"
   ]
  },
  {
   "cell_type": "code",
   "execution_count": 12,
   "metadata": {},
   "outputs": [
    {
     "data": {
      "text/plain": [
       "customer_id\n",
       "Friday-1        2019-09-06 07:00:00\n",
       "Friday-10       2019-09-06 07:06:00\n",
       "Friday-100      2019-09-06 08:03:00\n",
       "Friday-1000     2019-09-06 17:19:00\n",
       "Friday-1001     2019-09-06 17:19:00\n",
       "                        ...        \n",
       "Wednesday-995   2019-09-04 16:52:00\n",
       "Wednesday-996   2019-09-04 16:52:00\n",
       "Wednesday-997   2019-09-04 16:52:00\n",
       "Wednesday-998   2019-09-04 16:53:00\n",
       "Wednesday-999   2019-09-04 16:53:00\n",
       "Name: timestamp, Length: 7445, dtype: datetime64[ns]"
      ]
     },
     "execution_count": 12,
     "metadata": {},
     "output_type": "execute_result"
    }
   ],
   "source": [
    "enter_datetimes"
   ]
  },
  {
   "cell_type": "code",
   "execution_count": 13,
   "metadata": {},
   "outputs": [],
   "source": [
    "for customer in df['customer_id'].unique():\n",
    "    df.loc[(df.customer_id == customer) & (df.index == enter_datetimes[customer]), 'section_order'] = 'first'"
   ]
  },
  {
   "cell_type": "code",
   "execution_count": 14,
   "metadata": {},
   "outputs": [],
   "source": [
    "df.loc[df['location'] == 'checkout', 'section_order'] = 'checkout'"
   ]
  },
  {
   "cell_type": "code",
   "execution_count": 15,
   "metadata": {},
   "outputs": [],
   "source": [
    "df['section_order'].fillna('following', inplace=True)"
   ]
  },
  {
   "cell_type": "code",
   "execution_count": 16,
   "metadata": {},
   "outputs": [
    {
     "data": {
      "text/html": [
       "<div>\n",
       "<style scoped>\n",
       "    .dataframe tbody tr th:only-of-type {\n",
       "        vertical-align: middle;\n",
       "    }\n",
       "\n",
       "    .dataframe tbody tr th {\n",
       "        vertical-align: top;\n",
       "    }\n",
       "\n",
       "    .dataframe thead th {\n",
       "        text-align: right;\n",
       "    }\n",
       "</style>\n",
       "<table border=\"1\" class=\"dataframe\">\n",
       "  <thead>\n",
       "    <tr style=\"text-align: right;\">\n",
       "      <th></th>\n",
       "      <th>customer_no</th>\n",
       "      <th>location</th>\n",
       "      <th>time</th>\n",
       "      <th>day</th>\n",
       "      <th>customer_id</th>\n",
       "      <th>section_order</th>\n",
       "    </tr>\n",
       "    <tr>\n",
       "      <th>timestamp</th>\n",
       "      <th></th>\n",
       "      <th></th>\n",
       "      <th></th>\n",
       "      <th></th>\n",
       "      <th></th>\n",
       "      <th></th>\n",
       "    </tr>\n",
       "  </thead>\n",
       "  <tbody>\n",
       "    <tr>\n",
       "      <th>2019-09-02 07:03:00</th>\n",
       "      <td>1</td>\n",
       "      <td>dairy</td>\n",
       "      <td>07:03:00</td>\n",
       "      <td>Monday</td>\n",
       "      <td>Monday-1</td>\n",
       "      <td>first</td>\n",
       "    </tr>\n",
       "    <tr>\n",
       "      <th>2019-09-02 07:03:00</th>\n",
       "      <td>2</td>\n",
       "      <td>dairy</td>\n",
       "      <td>07:03:00</td>\n",
       "      <td>Monday</td>\n",
       "      <td>Monday-2</td>\n",
       "      <td>first</td>\n",
       "    </tr>\n",
       "    <tr>\n",
       "      <th>2019-09-02 07:04:00</th>\n",
       "      <td>4</td>\n",
       "      <td>dairy</td>\n",
       "      <td>07:04:00</td>\n",
       "      <td>Monday</td>\n",
       "      <td>Monday-4</td>\n",
       "      <td>first</td>\n",
       "    </tr>\n",
       "    <tr>\n",
       "      <th>2019-09-02 07:04:00</th>\n",
       "      <td>8</td>\n",
       "      <td>fruit</td>\n",
       "      <td>07:04:00</td>\n",
       "      <td>Monday</td>\n",
       "      <td>Monday-8</td>\n",
       "      <td>first</td>\n",
       "    </tr>\n",
       "    <tr>\n",
       "      <th>2019-09-02 07:04:00</th>\n",
       "      <td>7</td>\n",
       "      <td>spices</td>\n",
       "      <td>07:04:00</td>\n",
       "      <td>Monday</td>\n",
       "      <td>Monday-7</td>\n",
       "      <td>first</td>\n",
       "    </tr>\n",
       "    <tr>\n",
       "      <th>2019-09-02 07:04:00</th>\n",
       "      <td>3</td>\n",
       "      <td>dairy</td>\n",
       "      <td>07:04:00</td>\n",
       "      <td>Monday</td>\n",
       "      <td>Monday-3</td>\n",
       "      <td>first</td>\n",
       "    </tr>\n",
       "    <tr>\n",
       "      <th>2019-09-02 07:04:00</th>\n",
       "      <td>5</td>\n",
       "      <td>spices</td>\n",
       "      <td>07:04:00</td>\n",
       "      <td>Monday</td>\n",
       "      <td>Monday-5</td>\n",
       "      <td>first</td>\n",
       "    </tr>\n",
       "    <tr>\n",
       "      <th>2019-09-02 07:04:00</th>\n",
       "      <td>6</td>\n",
       "      <td>spices</td>\n",
       "      <td>07:04:00</td>\n",
       "      <td>Monday</td>\n",
       "      <td>Monday-6</td>\n",
       "      <td>first</td>\n",
       "    </tr>\n",
       "    <tr>\n",
       "      <th>2019-09-02 07:05:00</th>\n",
       "      <td>1</td>\n",
       "      <td>checkout</td>\n",
       "      <td>07:05:00</td>\n",
       "      <td>Monday</td>\n",
       "      <td>Monday-1</td>\n",
       "      <td>checkout</td>\n",
       "    </tr>\n",
       "    <tr>\n",
       "      <th>2019-09-02 07:05:00</th>\n",
       "      <td>5</td>\n",
       "      <td>checkout</td>\n",
       "      <td>07:05:00</td>\n",
       "      <td>Monday</td>\n",
       "      <td>Monday-5</td>\n",
       "      <td>checkout</td>\n",
       "    </tr>\n",
       "    <tr>\n",
       "      <th>2019-09-02 07:05:00</th>\n",
       "      <td>6</td>\n",
       "      <td>dairy</td>\n",
       "      <td>07:05:00</td>\n",
       "      <td>Monday</td>\n",
       "      <td>Monday-6</td>\n",
       "      <td>following</td>\n",
       "    </tr>\n",
       "    <tr>\n",
       "      <th>2019-09-02 07:05:00</th>\n",
       "      <td>7</td>\n",
       "      <td>drinks</td>\n",
       "      <td>07:05:00</td>\n",
       "      <td>Monday</td>\n",
       "      <td>Monday-7</td>\n",
       "      <td>following</td>\n",
       "    </tr>\n",
       "    <tr>\n",
       "      <th>2019-09-02 07:06:00</th>\n",
       "      <td>14</td>\n",
       "      <td>fruit</td>\n",
       "      <td>07:06:00</td>\n",
       "      <td>Monday</td>\n",
       "      <td>Monday-14</td>\n",
       "      <td>first</td>\n",
       "    </tr>\n",
       "    <tr>\n",
       "      <th>2019-09-02 07:06:00</th>\n",
       "      <td>13</td>\n",
       "      <td>dairy</td>\n",
       "      <td>07:06:00</td>\n",
       "      <td>Monday</td>\n",
       "      <td>Monday-13</td>\n",
       "      <td>first</td>\n",
       "    </tr>\n",
       "    <tr>\n",
       "      <th>2019-09-02 07:06:00</th>\n",
       "      <td>12</td>\n",
       "      <td>spices</td>\n",
       "      <td>07:06:00</td>\n",
       "      <td>Monday</td>\n",
       "      <td>Monday-12</td>\n",
       "      <td>first</td>\n",
       "    </tr>\n",
       "    <tr>\n",
       "      <th>2019-09-02 07:06:00</th>\n",
       "      <td>11</td>\n",
       "      <td>drinks</td>\n",
       "      <td>07:06:00</td>\n",
       "      <td>Monday</td>\n",
       "      <td>Monday-11</td>\n",
       "      <td>first</td>\n",
       "    </tr>\n",
       "    <tr>\n",
       "      <th>2019-09-02 07:06:00</th>\n",
       "      <td>9</td>\n",
       "      <td>dairy</td>\n",
       "      <td>07:06:00</td>\n",
       "      <td>Monday</td>\n",
       "      <td>Monday-9</td>\n",
       "      <td>first</td>\n",
       "    </tr>\n",
       "    <tr>\n",
       "      <th>2019-09-02 07:06:00</th>\n",
       "      <td>3</td>\n",
       "      <td>checkout</td>\n",
       "      <td>07:06:00</td>\n",
       "      <td>Monday</td>\n",
       "      <td>Monday-3</td>\n",
       "      <td>checkout</td>\n",
       "    </tr>\n",
       "    <tr>\n",
       "      <th>2019-09-02 07:06:00</th>\n",
       "      <td>2</td>\n",
       "      <td>checkout</td>\n",
       "      <td>07:06:00</td>\n",
       "      <td>Monday</td>\n",
       "      <td>Monday-2</td>\n",
       "      <td>checkout</td>\n",
       "    </tr>\n",
       "    <tr>\n",
       "      <th>2019-09-02 07:06:00</th>\n",
       "      <td>10</td>\n",
       "      <td>fruit</td>\n",
       "      <td>07:06:00</td>\n",
       "      <td>Monday</td>\n",
       "      <td>Monday-10</td>\n",
       "      <td>first</td>\n",
       "    </tr>\n",
       "  </tbody>\n",
       "</table>\n",
       "</div>"
      ],
      "text/plain": [
       "                     customer_no  location      time     day customer_id  \\\n",
       "timestamp                                                                  \n",
       "2019-09-02 07:03:00            1     dairy  07:03:00  Monday    Monday-1   \n",
       "2019-09-02 07:03:00            2     dairy  07:03:00  Monday    Monday-2   \n",
       "2019-09-02 07:04:00            4     dairy  07:04:00  Monday    Monday-4   \n",
       "2019-09-02 07:04:00            8     fruit  07:04:00  Monday    Monday-8   \n",
       "2019-09-02 07:04:00            7    spices  07:04:00  Monday    Monday-7   \n",
       "2019-09-02 07:04:00            3     dairy  07:04:00  Monday    Monday-3   \n",
       "2019-09-02 07:04:00            5    spices  07:04:00  Monday    Monday-5   \n",
       "2019-09-02 07:04:00            6    spices  07:04:00  Monday    Monday-6   \n",
       "2019-09-02 07:05:00            1  checkout  07:05:00  Monday    Monday-1   \n",
       "2019-09-02 07:05:00            5  checkout  07:05:00  Monday    Monday-5   \n",
       "2019-09-02 07:05:00            6     dairy  07:05:00  Monday    Monday-6   \n",
       "2019-09-02 07:05:00            7    drinks  07:05:00  Monday    Monday-7   \n",
       "2019-09-02 07:06:00           14     fruit  07:06:00  Monday   Monday-14   \n",
       "2019-09-02 07:06:00           13     dairy  07:06:00  Monday   Monday-13   \n",
       "2019-09-02 07:06:00           12    spices  07:06:00  Monday   Monday-12   \n",
       "2019-09-02 07:06:00           11    drinks  07:06:00  Monday   Monday-11   \n",
       "2019-09-02 07:06:00            9     dairy  07:06:00  Monday    Monday-9   \n",
       "2019-09-02 07:06:00            3  checkout  07:06:00  Monday    Monday-3   \n",
       "2019-09-02 07:06:00            2  checkout  07:06:00  Monday    Monday-2   \n",
       "2019-09-02 07:06:00           10     fruit  07:06:00  Monday   Monday-10   \n",
       "\n",
       "                    section_order  \n",
       "timestamp                          \n",
       "2019-09-02 07:03:00         first  \n",
       "2019-09-02 07:03:00         first  \n",
       "2019-09-02 07:04:00         first  \n",
       "2019-09-02 07:04:00         first  \n",
       "2019-09-02 07:04:00         first  \n",
       "2019-09-02 07:04:00         first  \n",
       "2019-09-02 07:04:00         first  \n",
       "2019-09-02 07:04:00         first  \n",
       "2019-09-02 07:05:00      checkout  \n",
       "2019-09-02 07:05:00      checkout  \n",
       "2019-09-02 07:05:00     following  \n",
       "2019-09-02 07:05:00     following  \n",
       "2019-09-02 07:06:00         first  \n",
       "2019-09-02 07:06:00         first  \n",
       "2019-09-02 07:06:00         first  \n",
       "2019-09-02 07:06:00         first  \n",
       "2019-09-02 07:06:00         first  \n",
       "2019-09-02 07:06:00      checkout  \n",
       "2019-09-02 07:06:00      checkout  \n",
       "2019-09-02 07:06:00         first  "
      ]
     },
     "execution_count": 16,
     "metadata": {},
     "output_type": "execute_result"
    }
   ],
   "source": [
    "df.head(20)"
   ]
  },
  {
   "cell_type": "markdown",
   "metadata": {},
   "source": [
    "### Calculate the total number of customers in each section"
   ]
  },
  {
   "cell_type": "code",
   "execution_count": 17,
   "metadata": {},
   "outputs": [
    {
     "data": {
      "text/html": [
       "<div>\n",
       "<style scoped>\n",
       "    .dataframe tbody tr th:only-of-type {\n",
       "        vertical-align: middle;\n",
       "    }\n",
       "\n",
       "    .dataframe tbody tr th {\n",
       "        vertical-align: top;\n",
       "    }\n",
       "\n",
       "    .dataframe thead th {\n",
       "        text-align: right;\n",
       "    }\n",
       "</style>\n",
       "<table border=\"1\" class=\"dataframe\">\n",
       "  <thead>\n",
       "    <tr style=\"text-align: right;\">\n",
       "      <th></th>\n",
       "      <th>customer_id</th>\n",
       "    </tr>\n",
       "    <tr>\n",
       "      <th>location</th>\n",
       "      <th></th>\n",
       "    </tr>\n",
       "  </thead>\n",
       "  <tbody>\n",
       "    <tr>\n",
       "      <th>checkout</th>\n",
       "      <td>7417</td>\n",
       "    </tr>\n",
       "    <tr>\n",
       "      <th>fruit</th>\n",
       "      <td>5122</td>\n",
       "    </tr>\n",
       "    <tr>\n",
       "      <th>dairy</th>\n",
       "      <td>4679</td>\n",
       "    </tr>\n",
       "    <tr>\n",
       "      <th>drinks</th>\n",
       "      <td>3905</td>\n",
       "    </tr>\n",
       "    <tr>\n",
       "      <th>spices</th>\n",
       "      <td>3754</td>\n",
       "    </tr>\n",
       "  </tbody>\n",
       "</table>\n",
       "</div>"
      ],
      "text/plain": [
       "          customer_id\n",
       "location             \n",
       "checkout         7417\n",
       "fruit            5122\n",
       "dairy            4679\n",
       "drinks           3905\n",
       "spices           3754"
      ]
     },
     "execution_count": 17,
     "metadata": {},
     "output_type": "execute_result"
    }
   ],
   "source": [
    "# absolute number of customers pers section\n",
    "df.groupby('location')[['customer_id']].count().sort_values('customer_id', ascending=False)"
   ]
  },
  {
   "cell_type": "code",
   "execution_count": 18,
   "metadata": {},
   "outputs": [
    {
     "data": {
      "text/html": [
       "<div>\n",
       "<style scoped>\n",
       "    .dataframe tbody tr th:only-of-type {\n",
       "        vertical-align: middle;\n",
       "    }\n",
       "\n",
       "    .dataframe tbody tr th {\n",
       "        vertical-align: top;\n",
       "    }\n",
       "\n",
       "    .dataframe thead th {\n",
       "        text-align: right;\n",
       "    }\n",
       "</style>\n",
       "<table border=\"1\" class=\"dataframe\">\n",
       "  <thead>\n",
       "    <tr style=\"text-align: right;\">\n",
       "      <th></th>\n",
       "      <th>customer_id</th>\n",
       "    </tr>\n",
       "    <tr>\n",
       "      <th>location</th>\n",
       "      <th></th>\n",
       "    </tr>\n",
       "  </thead>\n",
       "  <tbody>\n",
       "    <tr>\n",
       "      <th>checkout</th>\n",
       "      <td>1483</td>\n",
       "    </tr>\n",
       "    <tr>\n",
       "      <th>fruit</th>\n",
       "      <td>1024</td>\n",
       "    </tr>\n",
       "    <tr>\n",
       "      <th>dairy</th>\n",
       "      <td>936</td>\n",
       "    </tr>\n",
       "    <tr>\n",
       "      <th>drinks</th>\n",
       "      <td>781</td>\n",
       "    </tr>\n",
       "    <tr>\n",
       "      <th>spices</th>\n",
       "      <td>751</td>\n",
       "    </tr>\n",
       "  </tbody>\n",
       "</table>\n",
       "</div>"
      ],
      "text/plain": [
       "          customer_id\n",
       "location             \n",
       "checkout         1483\n",
       "fruit            1024\n",
       "dairy             936\n",
       "drinks            781\n",
       "spices            751"
      ]
     },
     "execution_count": 18,
     "metadata": {},
     "output_type": "execute_result"
    }
   ],
   "source": [
    "# daily average of customers per section\n",
    "round(df.groupby('location')[['customer_id']].count().sort_values('customer_id', ascending=False) / 5, 0).astype(int)"
   ]
  },
  {
   "cell_type": "markdown",
   "metadata": {},
   "source": [
    "### Calculate the total number of customers in each section over time"
   ]
  },
  {
   "cell_type": "code",
   "execution_count": 19,
   "metadata": {},
   "outputs": [
    {
     "data": {
      "text/html": [
       "<div>\n",
       "<style scoped>\n",
       "    .dataframe tbody tr th:only-of-type {\n",
       "        vertical-align: middle;\n",
       "    }\n",
       "\n",
       "    .dataframe tbody tr th {\n",
       "        vertical-align: top;\n",
       "    }\n",
       "\n",
       "    .dataframe thead th {\n",
       "        text-align: right;\n",
       "    }\n",
       "</style>\n",
       "<table border=\"1\" class=\"dataframe\">\n",
       "  <thead>\n",
       "    <tr style=\"text-align: right;\">\n",
       "      <th></th>\n",
       "      <th></th>\n",
       "      <th>customer_id</th>\n",
       "    </tr>\n",
       "    <tr>\n",
       "      <th>time</th>\n",
       "      <th>location</th>\n",
       "      <th></th>\n",
       "    </tr>\n",
       "  </thead>\n",
       "  <tbody>\n",
       "    <tr>\n",
       "      <th rowspan=\"3\" valign=\"top\">07:00:00</th>\n",
       "      <th>dairy</th>\n",
       "      <td>0.6</td>\n",
       "    </tr>\n",
       "    <tr>\n",
       "      <th>drinks</th>\n",
       "      <td>0.6</td>\n",
       "    </tr>\n",
       "    <tr>\n",
       "      <th>fruit</th>\n",
       "      <td>0.8</td>\n",
       "    </tr>\n",
       "    <tr>\n",
       "      <th rowspan=\"2\" valign=\"top\">07:01:00</th>\n",
       "      <th>checkout</th>\n",
       "      <td>0.4</td>\n",
       "    </tr>\n",
       "    <tr>\n",
       "      <th>dairy</th>\n",
       "      <td>0.8</td>\n",
       "    </tr>\n",
       "    <tr>\n",
       "      <th>...</th>\n",
       "      <th>...</th>\n",
       "      <td>...</td>\n",
       "    </tr>\n",
       "    <tr>\n",
       "      <th rowspan=\"5\" valign=\"top\">21:50:00</th>\n",
       "      <th>checkout</th>\n",
       "      <td>0.4</td>\n",
       "    </tr>\n",
       "    <tr>\n",
       "      <th>dairy</th>\n",
       "      <td>0.6</td>\n",
       "    </tr>\n",
       "    <tr>\n",
       "      <th>drinks</th>\n",
       "      <td>0.2</td>\n",
       "    </tr>\n",
       "    <tr>\n",
       "      <th>fruit</th>\n",
       "      <td>0.4</td>\n",
       "    </tr>\n",
       "    <tr>\n",
       "      <th>spices</th>\n",
       "      <td>0.2</td>\n",
       "    </tr>\n",
       "  </tbody>\n",
       "</table>\n",
       "<p>4383 rows × 1 columns</p>\n",
       "</div>"
      ],
      "text/plain": [
       "                   customer_id\n",
       "time     location             \n",
       "07:00:00 dairy             0.6\n",
       "         drinks            0.6\n",
       "         fruit             0.8\n",
       "07:01:00 checkout          0.4\n",
       "         dairy             0.8\n",
       "...                        ...\n",
       "21:50:00 checkout          0.4\n",
       "         dairy             0.6\n",
       "         drinks            0.2\n",
       "         fruit             0.4\n",
       "         spices            0.2\n",
       "\n",
       "[4383 rows x 1 columns]"
      ]
     },
     "execution_count": 19,
     "metadata": {},
     "output_type": "execute_result"
    }
   ],
   "source": [
    "# average number of customers per minute and location\n",
    "customers_in_section_over_time = df.groupby([df.time, df.location])[['customer_id']].count() / 5\n",
    "customers_in_section_over_time"
   ]
  },
  {
   "cell_type": "code",
   "execution_count": 20,
   "metadata": {},
   "outputs": [
    {
     "data": {
      "text/html": [
       "<div>\n",
       "<style scoped>\n",
       "    .dataframe tbody tr th:only-of-type {\n",
       "        vertical-align: middle;\n",
       "    }\n",
       "\n",
       "    .dataframe tbody tr th {\n",
       "        vertical-align: top;\n",
       "    }\n",
       "\n",
       "    .dataframe thead th {\n",
       "        text-align: right;\n",
       "    }\n",
       "</style>\n",
       "<table border=\"1\" class=\"dataframe\">\n",
       "  <thead>\n",
       "    <tr style=\"text-align: right;\">\n",
       "      <th></th>\n",
       "      <th></th>\n",
       "      <th>customer_id</th>\n",
       "    </tr>\n",
       "    <tr>\n",
       "      <th>timestamp</th>\n",
       "      <th>location</th>\n",
       "      <th></th>\n",
       "    </tr>\n",
       "  </thead>\n",
       "  <tbody>\n",
       "    <tr>\n",
       "      <th>2019-09-02 07:03:00</th>\n",
       "      <th>dairy</th>\n",
       "      <td>2</td>\n",
       "    </tr>\n",
       "    <tr>\n",
       "      <th rowspan=\"3\" valign=\"top\">2019-09-02 07:04:00</th>\n",
       "      <th>dairy</th>\n",
       "      <td>2</td>\n",
       "    </tr>\n",
       "    <tr>\n",
       "      <th>fruit</th>\n",
       "      <td>1</td>\n",
       "    </tr>\n",
       "    <tr>\n",
       "      <th>spices</th>\n",
       "      <td>3</td>\n",
       "    </tr>\n",
       "    <tr>\n",
       "      <th>2019-09-02 07:05:00</th>\n",
       "      <th>checkout</th>\n",
       "      <td>2</td>\n",
       "    </tr>\n",
       "    <tr>\n",
       "      <th>...</th>\n",
       "      <th>...</th>\n",
       "      <td>...</td>\n",
       "    </tr>\n",
       "    <tr>\n",
       "      <th rowspan=\"5\" valign=\"top\">2019-09-06 21:50:00</th>\n",
       "      <th>checkout</th>\n",
       "      <td>2</td>\n",
       "    </tr>\n",
       "    <tr>\n",
       "      <th>dairy</th>\n",
       "      <td>1</td>\n",
       "    </tr>\n",
       "    <tr>\n",
       "      <th>drinks</th>\n",
       "      <td>1</td>\n",
       "    </tr>\n",
       "    <tr>\n",
       "      <th>fruit</th>\n",
       "      <td>1</td>\n",
       "    </tr>\n",
       "    <tr>\n",
       "      <th>spices</th>\n",
       "      <td>1</td>\n",
       "    </tr>\n",
       "  </tbody>\n",
       "</table>\n",
       "<p>13839 rows × 1 columns</p>\n",
       "</div>"
      ],
      "text/plain": [
       "                              customer_id\n",
       "timestamp           location             \n",
       "2019-09-02 07:03:00 dairy               2\n",
       "2019-09-02 07:04:00 dairy               2\n",
       "                    fruit               1\n",
       "                    spices              3\n",
       "2019-09-02 07:05:00 checkout            2\n",
       "...                                   ...\n",
       "2019-09-06 21:50:00 checkout            2\n",
       "                    dairy               1\n",
       "                    drinks              1\n",
       "                    fruit               1\n",
       "                    spices              1\n",
       "\n",
       "[13839 rows x 1 columns]"
      ]
     },
     "execution_count": 20,
     "metadata": {},
     "output_type": "execute_result"
    }
   ],
   "source": [
    "# total number of customers per timestamp and location\n",
    "customers_in_section_over_time = df.groupby([df.index, df.location])[['customer_id']].count()\n",
    "customers_in_section_over_time"
   ]
  },
  {
   "cell_type": "markdown",
   "metadata": {},
   "source": [
    "### Display the number of customers at checkout over time"
   ]
  },
  {
   "cell_type": "code",
   "execution_count": 21,
   "metadata": {},
   "outputs": [
    {
     "data": {
      "text/html": [
       "<div>\n",
       "<style scoped>\n",
       "    .dataframe tbody tr th:only-of-type {\n",
       "        vertical-align: middle;\n",
       "    }\n",
       "\n",
       "    .dataframe tbody tr th {\n",
       "        vertical-align: top;\n",
       "    }\n",
       "\n",
       "    .dataframe thead th {\n",
       "        text-align: right;\n",
       "    }\n",
       "</style>\n",
       "<table border=\"1\" class=\"dataframe\">\n",
       "  <thead>\n",
       "    <tr style=\"text-align: right;\">\n",
       "      <th></th>\n",
       "      <th></th>\n",
       "      <th>location</th>\n",
       "    </tr>\n",
       "    <tr>\n",
       "      <th>time</th>\n",
       "      <th>location</th>\n",
       "      <th></th>\n",
       "    </tr>\n",
       "  </thead>\n",
       "  <tbody>\n",
       "    <tr>\n",
       "      <th>07:01:00</th>\n",
       "      <th>checkout</th>\n",
       "      <td>0.4</td>\n",
       "    </tr>\n",
       "    <tr>\n",
       "      <th>07:02:00</th>\n",
       "      <th>checkout</th>\n",
       "      <td>1.0</td>\n",
       "    </tr>\n",
       "    <tr>\n",
       "      <th>07:03:00</th>\n",
       "      <th>checkout</th>\n",
       "      <td>0.2</td>\n",
       "    </tr>\n",
       "    <tr>\n",
       "      <th>07:04:00</th>\n",
       "      <th>checkout</th>\n",
       "      <td>0.4</td>\n",
       "    </tr>\n",
       "    <tr>\n",
       "      <th>07:05:00</th>\n",
       "      <th>checkout</th>\n",
       "      <td>1.4</td>\n",
       "    </tr>\n",
       "    <tr>\n",
       "      <th>...</th>\n",
       "      <th>...</th>\n",
       "      <td>...</td>\n",
       "    </tr>\n",
       "    <tr>\n",
       "      <th>21:46:00</th>\n",
       "      <th>checkout</th>\n",
       "      <td>1.0</td>\n",
       "    </tr>\n",
       "    <tr>\n",
       "      <th>21:47:00</th>\n",
       "      <th>checkout</th>\n",
       "      <td>1.0</td>\n",
       "    </tr>\n",
       "    <tr>\n",
       "      <th>21:48:00</th>\n",
       "      <th>checkout</th>\n",
       "      <td>1.4</td>\n",
       "    </tr>\n",
       "    <tr>\n",
       "      <th>21:49:00</th>\n",
       "      <th>checkout</th>\n",
       "      <td>1.2</td>\n",
       "    </tr>\n",
       "    <tr>\n",
       "      <th>21:50:00</th>\n",
       "      <th>checkout</th>\n",
       "      <td>0.4</td>\n",
       "    </tr>\n",
       "  </tbody>\n",
       "</table>\n",
       "<p>890 rows × 1 columns</p>\n",
       "</div>"
      ],
      "text/plain": [
       "                   location\n",
       "time     location          \n",
       "07:01:00 checkout       0.4\n",
       "07:02:00 checkout       1.0\n",
       "07:03:00 checkout       0.2\n",
       "07:04:00 checkout       0.4\n",
       "07:05:00 checkout       1.4\n",
       "...                     ...\n",
       "21:46:00 checkout       1.0\n",
       "21:47:00 checkout       1.0\n",
       "21:48:00 checkout       1.4\n",
       "21:49:00 checkout       1.2\n",
       "21:50:00 checkout       0.4\n",
       "\n",
       "[890 rows x 1 columns]"
      ]
     },
     "execution_count": 21,
     "metadata": {},
     "output_type": "execute_result"
    }
   ],
   "source": [
    "# average number of customers at checkout per minute\n",
    "checkouts = df[df.location == 'checkout']\n",
    "checkouts.groupby([checkouts.time, checkouts.location])[['location']].count() / 5"
   ]
  },
  {
   "cell_type": "code",
   "execution_count": 22,
   "metadata": {},
   "outputs": [
    {
     "data": {
      "text/html": [
       "<div>\n",
       "<style scoped>\n",
       "    .dataframe tbody tr th:only-of-type {\n",
       "        vertical-align: middle;\n",
       "    }\n",
       "\n",
       "    .dataframe tbody tr th {\n",
       "        vertical-align: top;\n",
       "    }\n",
       "\n",
       "    .dataframe thead th {\n",
       "        text-align: right;\n",
       "    }\n",
       "</style>\n",
       "<table border=\"1\" class=\"dataframe\">\n",
       "  <thead>\n",
       "    <tr style=\"text-align: right;\">\n",
       "      <th></th>\n",
       "      <th></th>\n",
       "      <th>location</th>\n",
       "    </tr>\n",
       "    <tr>\n",
       "      <th>timestamp</th>\n",
       "      <th>location</th>\n",
       "      <th></th>\n",
       "    </tr>\n",
       "  </thead>\n",
       "  <tbody>\n",
       "    <tr>\n",
       "      <th>2019-09-02 07:05:00</th>\n",
       "      <th>checkout</th>\n",
       "      <td>2</td>\n",
       "    </tr>\n",
       "    <tr>\n",
       "      <th>2019-09-02 07:06:00</th>\n",
       "      <th>checkout</th>\n",
       "      <td>2</td>\n",
       "    </tr>\n",
       "    <tr>\n",
       "      <th>2019-09-02 07:07:00</th>\n",
       "      <th>checkout</th>\n",
       "      <td>1</td>\n",
       "    </tr>\n",
       "    <tr>\n",
       "      <th>2019-09-02 07:08:00</th>\n",
       "      <th>checkout</th>\n",
       "      <td>3</td>\n",
       "    </tr>\n",
       "    <tr>\n",
       "      <th>2019-09-02 07:09:00</th>\n",
       "      <th>checkout</th>\n",
       "      <td>1</td>\n",
       "    </tr>\n",
       "    <tr>\n",
       "      <th>...</th>\n",
       "      <th>...</th>\n",
       "      <td>...</td>\n",
       "    </tr>\n",
       "    <tr>\n",
       "      <th>2019-09-06 21:37:00</th>\n",
       "      <th>checkout</th>\n",
       "      <td>1</td>\n",
       "    </tr>\n",
       "    <tr>\n",
       "      <th>2019-09-06 21:45:00</th>\n",
       "      <th>checkout</th>\n",
       "      <td>1</td>\n",
       "    </tr>\n",
       "    <tr>\n",
       "      <th>2019-09-06 21:47:00</th>\n",
       "      <th>checkout</th>\n",
       "      <td>2</td>\n",
       "    </tr>\n",
       "    <tr>\n",
       "      <th>2019-09-06 21:48:00</th>\n",
       "      <th>checkout</th>\n",
       "      <td>2</td>\n",
       "    </tr>\n",
       "    <tr>\n",
       "      <th>2019-09-06 21:50:00</th>\n",
       "      <th>checkout</th>\n",
       "      <td>2</td>\n",
       "    </tr>\n",
       "  </tbody>\n",
       "</table>\n",
       "<p>3460 rows × 1 columns</p>\n",
       "</div>"
      ],
      "text/plain": [
       "                              location\n",
       "timestamp           location          \n",
       "2019-09-02 07:05:00 checkout         2\n",
       "2019-09-02 07:06:00 checkout         2\n",
       "2019-09-02 07:07:00 checkout         1\n",
       "2019-09-02 07:08:00 checkout         3\n",
       "2019-09-02 07:09:00 checkout         1\n",
       "...                                ...\n",
       "2019-09-06 21:37:00 checkout         1\n",
       "2019-09-06 21:45:00 checkout         1\n",
       "2019-09-06 21:47:00 checkout         2\n",
       "2019-09-06 21:48:00 checkout         2\n",
       "2019-09-06 21:50:00 checkout         2\n",
       "\n",
       "[3460 rows x 1 columns]"
      ]
     },
     "execution_count": 22,
     "metadata": {},
     "output_type": "execute_result"
    }
   ],
   "source": [
    "# absolute number of customers at checkout per timestamp\n",
    "checkouts = df[df.location == 'checkout']\n",
    "checkouts.groupby([checkouts.index, checkouts.location])[['location']].count()"
   ]
  },
  {
   "cell_type": "markdown",
   "metadata": {},
   "source": [
    "### Calculate the time each customer spent in the market"
   ]
  },
  {
   "cell_type": "code",
   "execution_count": 23,
   "metadata": {},
   "outputs": [
    {
     "data": {
      "text/html": [
       "<div>\n",
       "<style scoped>\n",
       "    .dataframe tbody tr th:only-of-type {\n",
       "        vertical-align: middle;\n",
       "    }\n",
       "\n",
       "    .dataframe tbody tr th {\n",
       "        vertical-align: top;\n",
       "    }\n",
       "\n",
       "    .dataframe thead th {\n",
       "        text-align: right;\n",
       "    }\n",
       "</style>\n",
       "<table border=\"1\" class=\"dataframe\">\n",
       "  <thead>\n",
       "    <tr style=\"text-align: right;\">\n",
       "      <th></th>\n",
       "      <th>enter_datetime</th>\n",
       "    </tr>\n",
       "    <tr>\n",
       "      <th>customer_id</th>\n",
       "      <th></th>\n",
       "    </tr>\n",
       "  </thead>\n",
       "  <tbody>\n",
       "    <tr>\n",
       "      <th>Monday-1</th>\n",
       "      <td>2019-09-02 07:03:00</td>\n",
       "    </tr>\n",
       "    <tr>\n",
       "      <th>Monday-2</th>\n",
       "      <td>2019-09-02 07:03:00</td>\n",
       "    </tr>\n",
       "    <tr>\n",
       "      <th>Monday-4</th>\n",
       "      <td>2019-09-02 07:04:00</td>\n",
       "    </tr>\n",
       "    <tr>\n",
       "      <th>Monday-3</th>\n",
       "      <td>2019-09-02 07:04:00</td>\n",
       "    </tr>\n",
       "    <tr>\n",
       "      <th>Monday-5</th>\n",
       "      <td>2019-09-02 07:04:00</td>\n",
       "    </tr>\n",
       "    <tr>\n",
       "      <th>...</th>\n",
       "      <td>...</td>\n",
       "    </tr>\n",
       "    <tr>\n",
       "      <th>Friday-1506</th>\n",
       "      <td>2019-09-06 21:48:00</td>\n",
       "    </tr>\n",
       "    <tr>\n",
       "      <th>Friday-1507</th>\n",
       "      <td>2019-09-06 21:48:00</td>\n",
       "    </tr>\n",
       "    <tr>\n",
       "      <th>Friday-1508</th>\n",
       "      <td>2019-09-06 21:48:00</td>\n",
       "    </tr>\n",
       "    <tr>\n",
       "      <th>Friday-1510</th>\n",
       "      <td>2019-09-06 21:50:00</td>\n",
       "    </tr>\n",
       "    <tr>\n",
       "      <th>Friday-1509</th>\n",
       "      <td>2019-09-06 21:50:00</td>\n",
       "    </tr>\n",
       "  </tbody>\n",
       "</table>\n",
       "<p>7445 rows × 1 columns</p>\n",
       "</div>"
      ],
      "text/plain": [
       "                 enter_datetime\n",
       "customer_id                    \n",
       "Monday-1    2019-09-02 07:03:00\n",
       "Monday-2    2019-09-02 07:03:00\n",
       "Monday-4    2019-09-02 07:04:00\n",
       "Monday-3    2019-09-02 07:04:00\n",
       "Monday-5    2019-09-02 07:04:00\n",
       "...                         ...\n",
       "Friday-1506 2019-09-06 21:48:00\n",
       "Friday-1507 2019-09-06 21:48:00\n",
       "Friday-1508 2019-09-06 21:48:00\n",
       "Friday-1510 2019-09-06 21:50:00\n",
       "Friday-1509 2019-09-06 21:50:00\n",
       "\n",
       "[7445 rows x 1 columns]"
      ]
     },
     "execution_count": 23,
     "metadata": {},
     "output_type": "execute_result"
    }
   ],
   "source": [
    "enter_datetime = df.reset_index()[['timestamp', 'customer_id']].groupby('customer_id').min()\n",
    "enter_datetime.rename(columns={'timestamp': 'enter_datetime'}, inplace=True)\n",
    "enter_datetime.sort_values('enter_datetime')"
   ]
  },
  {
   "cell_type": "code",
   "execution_count": 24,
   "metadata": {},
   "outputs": [
    {
     "data": {
      "text/html": [
       "<div>\n",
       "<style scoped>\n",
       "    .dataframe tbody tr th:only-of-type {\n",
       "        vertical-align: middle;\n",
       "    }\n",
       "\n",
       "    .dataframe tbody tr th {\n",
       "        vertical-align: top;\n",
       "    }\n",
       "\n",
       "    .dataframe thead th {\n",
       "        text-align: right;\n",
       "    }\n",
       "</style>\n",
       "<table border=\"1\" class=\"dataframe\">\n",
       "  <thead>\n",
       "    <tr style=\"text-align: right;\">\n",
       "      <th></th>\n",
       "      <th>exit_datetime</th>\n",
       "    </tr>\n",
       "    <tr>\n",
       "      <th>customer_id</th>\n",
       "      <th></th>\n",
       "    </tr>\n",
       "  </thead>\n",
       "  <tbody>\n",
       "    <tr>\n",
       "      <th>Monday-1</th>\n",
       "      <td>2019-09-02 07:05:00</td>\n",
       "    </tr>\n",
       "    <tr>\n",
       "      <th>Monday-5</th>\n",
       "      <td>2019-09-02 07:05:00</td>\n",
       "    </tr>\n",
       "    <tr>\n",
       "      <th>Monday-3</th>\n",
       "      <td>2019-09-02 07:06:00</td>\n",
       "    </tr>\n",
       "    <tr>\n",
       "      <th>Monday-2</th>\n",
       "      <td>2019-09-02 07:06:00</td>\n",
       "    </tr>\n",
       "    <tr>\n",
       "      <th>Monday-8</th>\n",
       "      <td>2019-09-02 07:07:00</td>\n",
       "    </tr>\n",
       "    <tr>\n",
       "      <th>...</th>\n",
       "      <td>...</td>\n",
       "    </tr>\n",
       "    <tr>\n",
       "      <th>Friday-1500</th>\n",
       "      <td>2019-09-06 21:50:00</td>\n",
       "    </tr>\n",
       "    <tr>\n",
       "      <th>Friday-1510</th>\n",
       "      <td>2019-09-06 21:50:00</td>\n",
       "    </tr>\n",
       "    <tr>\n",
       "      <th>Friday-1496</th>\n",
       "      <td>2019-09-06 21:50:00</td>\n",
       "    </tr>\n",
       "    <tr>\n",
       "      <th>Friday-1509</th>\n",
       "      <td>2019-09-06 21:50:00</td>\n",
       "    </tr>\n",
       "    <tr>\n",
       "      <th>Friday-1507</th>\n",
       "      <td>2019-09-06 21:50:00</td>\n",
       "    </tr>\n",
       "  </tbody>\n",
       "</table>\n",
       "<p>7445 rows × 1 columns</p>\n",
       "</div>"
      ],
      "text/plain": [
       "                  exit_datetime\n",
       "customer_id                    \n",
       "Monday-1    2019-09-02 07:05:00\n",
       "Monday-5    2019-09-02 07:05:00\n",
       "Monday-3    2019-09-02 07:06:00\n",
       "Monday-2    2019-09-02 07:06:00\n",
       "Monday-8    2019-09-02 07:07:00\n",
       "...                         ...\n",
       "Friday-1500 2019-09-06 21:50:00\n",
       "Friday-1510 2019-09-06 21:50:00\n",
       "Friday-1496 2019-09-06 21:50:00\n",
       "Friday-1509 2019-09-06 21:50:00\n",
       "Friday-1507 2019-09-06 21:50:00\n",
       "\n",
       "[7445 rows x 1 columns]"
      ]
     },
     "execution_count": 24,
     "metadata": {},
     "output_type": "execute_result"
    }
   ],
   "source": [
    "exit_datetime = df.reset_index()[['timestamp', 'customer_id']].groupby('customer_id').max()\n",
    "exit_datetime.rename(columns={'timestamp': 'exit_datetime'}, inplace=True)\n",
    "exit_datetime.sort_values('exit_datetime')"
   ]
  },
  {
   "cell_type": "code",
   "execution_count": 25,
   "metadata": {
    "scrolled": true
   },
   "outputs": [
    {
     "data": {
      "text/html": [
       "<div>\n",
       "<style scoped>\n",
       "    .dataframe tbody tr th:only-of-type {\n",
       "        vertical-align: middle;\n",
       "    }\n",
       "\n",
       "    .dataframe tbody tr th {\n",
       "        vertical-align: top;\n",
       "    }\n",
       "\n",
       "    .dataframe thead th {\n",
       "        text-align: right;\n",
       "    }\n",
       "</style>\n",
       "<table border=\"1\" class=\"dataframe\">\n",
       "  <thead>\n",
       "    <tr style=\"text-align: right;\">\n",
       "      <th></th>\n",
       "      <th>enter_datetime</th>\n",
       "      <th>exit_datetime</th>\n",
       "      <th>time_spent</th>\n",
       "    </tr>\n",
       "    <tr>\n",
       "      <th>customer_id</th>\n",
       "      <th></th>\n",
       "      <th></th>\n",
       "      <th></th>\n",
       "    </tr>\n",
       "  </thead>\n",
       "  <tbody>\n",
       "    <tr>\n",
       "      <th>Monday-1</th>\n",
       "      <td>2019-09-02 07:03:00</td>\n",
       "      <td>2019-09-02 07:05:00</td>\n",
       "      <td>00:02:00</td>\n",
       "    </tr>\n",
       "    <tr>\n",
       "      <th>Monday-2</th>\n",
       "      <td>2019-09-02 07:03:00</td>\n",
       "      <td>2019-09-02 07:06:00</td>\n",
       "      <td>00:03:00</td>\n",
       "    </tr>\n",
       "    <tr>\n",
       "      <th>Monday-4</th>\n",
       "      <td>2019-09-02 07:04:00</td>\n",
       "      <td>2019-09-02 07:08:00</td>\n",
       "      <td>00:04:00</td>\n",
       "    </tr>\n",
       "    <tr>\n",
       "      <th>Monday-3</th>\n",
       "      <td>2019-09-02 07:04:00</td>\n",
       "      <td>2019-09-02 07:06:00</td>\n",
       "      <td>00:02:00</td>\n",
       "    </tr>\n",
       "    <tr>\n",
       "      <th>Monday-5</th>\n",
       "      <td>2019-09-02 07:04:00</td>\n",
       "      <td>2019-09-02 07:05:00</td>\n",
       "      <td>00:01:00</td>\n",
       "    </tr>\n",
       "    <tr>\n",
       "      <th>...</th>\n",
       "      <td>...</td>\n",
       "      <td>...</td>\n",
       "      <td>...</td>\n",
       "    </tr>\n",
       "    <tr>\n",
       "      <th>Friday-1506</th>\n",
       "      <td>2019-09-06 21:48:00</td>\n",
       "      <td>2019-09-06 21:48:00</td>\n",
       "      <td>00:00:00</td>\n",
       "    </tr>\n",
       "    <tr>\n",
       "      <th>Friday-1507</th>\n",
       "      <td>2019-09-06 21:48:00</td>\n",
       "      <td>2019-09-06 21:50:00</td>\n",
       "      <td>00:02:00</td>\n",
       "    </tr>\n",
       "    <tr>\n",
       "      <th>Friday-1508</th>\n",
       "      <td>2019-09-06 21:48:00</td>\n",
       "      <td>2019-09-06 21:50:00</td>\n",
       "      <td>00:02:00</td>\n",
       "    </tr>\n",
       "    <tr>\n",
       "      <th>Friday-1510</th>\n",
       "      <td>2019-09-06 21:50:00</td>\n",
       "      <td>2019-09-06 21:50:00</td>\n",
       "      <td>00:00:00</td>\n",
       "    </tr>\n",
       "    <tr>\n",
       "      <th>Friday-1509</th>\n",
       "      <td>2019-09-06 21:50:00</td>\n",
       "      <td>2019-09-06 21:50:00</td>\n",
       "      <td>00:00:00</td>\n",
       "    </tr>\n",
       "  </tbody>\n",
       "</table>\n",
       "<p>7445 rows × 3 columns</p>\n",
       "</div>"
      ],
      "text/plain": [
       "                 enter_datetime       exit_datetime time_spent\n",
       "customer_id                                                   \n",
       "Monday-1    2019-09-02 07:03:00 2019-09-02 07:05:00   00:02:00\n",
       "Monday-2    2019-09-02 07:03:00 2019-09-02 07:06:00   00:03:00\n",
       "Monday-4    2019-09-02 07:04:00 2019-09-02 07:08:00   00:04:00\n",
       "Monday-3    2019-09-02 07:04:00 2019-09-02 07:06:00   00:02:00\n",
       "Monday-5    2019-09-02 07:04:00 2019-09-02 07:05:00   00:01:00\n",
       "...                         ...                 ...        ...\n",
       "Friday-1506 2019-09-06 21:48:00 2019-09-06 21:48:00   00:00:00\n",
       "Friday-1507 2019-09-06 21:48:00 2019-09-06 21:50:00   00:02:00\n",
       "Friday-1508 2019-09-06 21:48:00 2019-09-06 21:50:00   00:02:00\n",
       "Friday-1510 2019-09-06 21:50:00 2019-09-06 21:50:00   00:00:00\n",
       "Friday-1509 2019-09-06 21:50:00 2019-09-06 21:50:00   00:00:00\n",
       "\n",
       "[7445 rows x 3 columns]"
      ]
     },
     "execution_count": 25,
     "metadata": {},
     "output_type": "execute_result"
    }
   ],
   "source": [
    "customer_time_spent = pd.concat([enter_datetime, exit_datetime], axis=1)\n",
    "customer_time_spent['time_spent'] = customer_time_spent['exit_datetime'] - customer_time_spent['enter_datetime']\n",
    "customer_time_spent.sort_values('enter_datetime')"
   ]
  },
  {
   "cell_type": "markdown",
   "metadata": {},
   "source": [
    "### Calculate the total number of customers present in the supermarket over time"
   ]
  },
  {
   "cell_type": "code",
   "execution_count": 26,
   "metadata": {},
   "outputs": [
    {
     "data": {
      "text/plain": [
       "datetime.time(21, 51)"
      ]
     },
     "execution_count": 26,
     "metadata": {},
     "output_type": "execute_result"
    }
   ],
   "source": [
    "# Create default timestamp for missing exit_datetime values (assuming that customers are leaving, when the market closes)\n",
    "default_exit_datetime = pd.to_datetime('21:51:00').time()\n",
    "default_exit_datetime"
   ]
  },
  {
   "cell_type": "code",
   "execution_count": 27,
   "metadata": {},
   "outputs": [
    {
     "data": {
      "text/plain": [
       "enter_datetime    0\n",
       "exit_datetime     0\n",
       "time_spent        0\n",
       "dtype: int64"
      ]
     },
     "execution_count": 27,
     "metadata": {},
     "output_type": "execute_result"
    }
   ],
   "source": [
    "customer_time_spent.isna().sum()"
   ]
  },
  {
   "cell_type": "code",
   "execution_count": 28,
   "metadata": {},
   "outputs": [],
   "source": [
    "# Fill missing exit_datetime values\n",
    "customer_time_spent['exit_datetime'].fillna(default_exit_datetime, inplace=True)"
   ]
  },
  {
   "cell_type": "code",
   "execution_count": 29,
   "metadata": {},
   "outputs": [],
   "source": [
    "# Define function to extract all minutes, where customer is present\n",
    "def get_customer_presence(customer_id):\n",
    "    \"\"\"returns DataFrame with all minutes where customer is present\"\"\"\n",
    "    customer_presence = pd.date_range(customer_time_spent['enter_datetime'][customer_id] + pd.to_timedelta(1, unit='min'), customer_time_spent['exit_datetime'][customer_id] - pd.to_timedelta(1, unit='min'), freq='Min')\n",
    "    return pd.DataFrame(zip(customer_presence,[customer_id] * len(customer_presence)))"
   ]
  },
  {
   "cell_type": "code",
   "execution_count": 30,
   "metadata": {},
   "outputs": [],
   "source": [
    "# Initialise empty DataFrame\n",
    "init_df = pd.DataFrame()\n",
    "last_df = init_df"
   ]
  },
  {
   "cell_type": "code",
   "execution_count": 31,
   "metadata": {},
   "outputs": [],
   "source": [
    "# Concat all timestamp values of all customers\n",
    "for customer in df['customer_id'].unique():\n",
    "    current_df = get_customer_presence(customer)\n",
    "    combined = pd.concat([last_df, current_df], axis=0)\n",
    "    last_df = combined"
   ]
  },
  {
   "cell_type": "code",
   "execution_count": 32,
   "metadata": {},
   "outputs": [],
   "source": [
    "total_customers = combined.rename(columns={0:'timestamp', 1:'customer_id'})"
   ]
  },
  {
   "cell_type": "code",
   "execution_count": 33,
   "metadata": {},
   "outputs": [],
   "source": [
    "total_customers.set_index('timestamp', inplace=True)"
   ]
  },
  {
   "cell_type": "code",
   "execution_count": 34,
   "metadata": {},
   "outputs": [],
   "source": [
    "full_data = pd.concat([total_customers, df], axis=0, sort=True)"
   ]
  },
  {
   "cell_type": "code",
   "execution_count": 35,
   "metadata": {},
   "outputs": [],
   "source": [
    "full_data.sort_index(inplace=True)"
   ]
  },
  {
   "cell_type": "code",
   "execution_count": 36,
   "metadata": {},
   "outputs": [],
   "source": [
    "final_data = full_data.reset_index().sort_values(by=['customer_id']).set_index('timestamp').copy()"
   ]
  },
  {
   "cell_type": "code",
   "execution_count": 37,
   "metadata": {},
   "outputs": [
    {
     "data": {
      "text/html": [
       "<div>\n",
       "<style scoped>\n",
       "    .dataframe tbody tr th:only-of-type {\n",
       "        vertical-align: middle;\n",
       "    }\n",
       "\n",
       "    .dataframe tbody tr th {\n",
       "        vertical-align: top;\n",
       "    }\n",
       "\n",
       "    .dataframe thead th {\n",
       "        text-align: right;\n",
       "    }\n",
       "</style>\n",
       "<table border=\"1\" class=\"dataframe\">\n",
       "  <thead>\n",
       "    <tr style=\"text-align: right;\">\n",
       "      <th></th>\n",
       "      <th>customer_id</th>\n",
       "      <th>customer_no</th>\n",
       "      <th>day</th>\n",
       "      <th>location</th>\n",
       "      <th>section_order</th>\n",
       "      <th>time</th>\n",
       "    </tr>\n",
       "    <tr>\n",
       "      <th>timestamp</th>\n",
       "      <th></th>\n",
       "      <th></th>\n",
       "      <th></th>\n",
       "      <th></th>\n",
       "      <th></th>\n",
       "      <th></th>\n",
       "    </tr>\n",
       "  </thead>\n",
       "  <tbody>\n",
       "    <tr>\n",
       "      <th>2019-09-06 07:00:00</th>\n",
       "      <td>Friday-1</td>\n",
       "      <td>1.0</td>\n",
       "      <td>Friday</td>\n",
       "      <td>dairy</td>\n",
       "      <td>first</td>\n",
       "      <td>07:00:00</td>\n",
       "    </tr>\n",
       "    <tr>\n",
       "      <th>2019-09-06 07:01:00</th>\n",
       "      <td>Friday-1</td>\n",
       "      <td>NaN</td>\n",
       "      <td>NaN</td>\n",
       "      <td>NaN</td>\n",
       "      <td>NaN</td>\n",
       "      <td>NaN</td>\n",
       "    </tr>\n",
       "    <tr>\n",
       "      <th>2019-09-06 07:02:00</th>\n",
       "      <td>Friday-1</td>\n",
       "      <td>NaN</td>\n",
       "      <td>NaN</td>\n",
       "      <td>NaN</td>\n",
       "      <td>NaN</td>\n",
       "      <td>NaN</td>\n",
       "    </tr>\n",
       "    <tr>\n",
       "      <th>2019-09-06 07:03:00</th>\n",
       "      <td>Friday-1</td>\n",
       "      <td>NaN</td>\n",
       "      <td>NaN</td>\n",
       "      <td>NaN</td>\n",
       "      <td>NaN</td>\n",
       "      <td>NaN</td>\n",
       "    </tr>\n",
       "    <tr>\n",
       "      <th>2019-09-06 07:04:00</th>\n",
       "      <td>Friday-1</td>\n",
       "      <td>1.0</td>\n",
       "      <td>Friday</td>\n",
       "      <td>spices</td>\n",
       "      <td>following</td>\n",
       "      <td>07:04:00</td>\n",
       "    </tr>\n",
       "    <tr>\n",
       "      <th>...</th>\n",
       "      <td>...</td>\n",
       "      <td>...</td>\n",
       "      <td>...</td>\n",
       "      <td>...</td>\n",
       "      <td>...</td>\n",
       "      <td>...</td>\n",
       "    </tr>\n",
       "    <tr>\n",
       "      <th>2019-09-04 16:57:00</th>\n",
       "      <td>Wednesday-998</td>\n",
       "      <td>NaN</td>\n",
       "      <td>NaN</td>\n",
       "      <td>NaN</td>\n",
       "      <td>NaN</td>\n",
       "      <td>NaN</td>\n",
       "    </tr>\n",
       "    <tr>\n",
       "      <th>2019-09-04 16:58:00</th>\n",
       "      <td>Wednesday-998</td>\n",
       "      <td>NaN</td>\n",
       "      <td>NaN</td>\n",
       "      <td>NaN</td>\n",
       "      <td>NaN</td>\n",
       "      <td>NaN</td>\n",
       "    </tr>\n",
       "    <tr>\n",
       "      <th>2019-09-04 16:59:00</th>\n",
       "      <td>Wednesday-998</td>\n",
       "      <td>998.0</td>\n",
       "      <td>Wednesday</td>\n",
       "      <td>checkout</td>\n",
       "      <td>checkout</td>\n",
       "      <td>16:59:00</td>\n",
       "    </tr>\n",
       "    <tr>\n",
       "      <th>2019-09-04 16:53:00</th>\n",
       "      <td>Wednesday-999</td>\n",
       "      <td>999.0</td>\n",
       "      <td>Wednesday</td>\n",
       "      <td>fruit</td>\n",
       "      <td>first</td>\n",
       "      <td>16:53:00</td>\n",
       "    </tr>\n",
       "    <tr>\n",
       "      <th>2019-09-04 16:54:00</th>\n",
       "      <td>Wednesday-999</td>\n",
       "      <td>999.0</td>\n",
       "      <td>Wednesday</td>\n",
       "      <td>checkout</td>\n",
       "      <td>checkout</td>\n",
       "      <td>16:54:00</td>\n",
       "    </tr>\n",
       "  </tbody>\n",
       "</table>\n",
       "<p>63899 rows × 6 columns</p>\n",
       "</div>"
      ],
      "text/plain": [
       "                       customer_id  customer_no        day  location  \\\n",
       "timestamp                                                              \n",
       "2019-09-06 07:00:00       Friday-1          1.0     Friday     dairy   \n",
       "2019-09-06 07:01:00       Friday-1          NaN        NaN       NaN   \n",
       "2019-09-06 07:02:00       Friday-1          NaN        NaN       NaN   \n",
       "2019-09-06 07:03:00       Friday-1          NaN        NaN       NaN   \n",
       "2019-09-06 07:04:00       Friday-1          1.0     Friday    spices   \n",
       "...                            ...          ...        ...       ...   \n",
       "2019-09-04 16:57:00  Wednesday-998          NaN        NaN       NaN   \n",
       "2019-09-04 16:58:00  Wednesday-998          NaN        NaN       NaN   \n",
       "2019-09-04 16:59:00  Wednesday-998        998.0  Wednesday  checkout   \n",
       "2019-09-04 16:53:00  Wednesday-999        999.0  Wednesday     fruit   \n",
       "2019-09-04 16:54:00  Wednesday-999        999.0  Wednesday  checkout   \n",
       "\n",
       "                    section_order      time  \n",
       "timestamp                                    \n",
       "2019-09-06 07:00:00         first  07:00:00  \n",
       "2019-09-06 07:01:00           NaN       NaN  \n",
       "2019-09-06 07:02:00           NaN       NaN  \n",
       "2019-09-06 07:03:00           NaN       NaN  \n",
       "2019-09-06 07:04:00     following  07:04:00  \n",
       "...                           ...       ...  \n",
       "2019-09-04 16:57:00           NaN       NaN  \n",
       "2019-09-04 16:58:00           NaN       NaN  \n",
       "2019-09-04 16:59:00      checkout  16:59:00  \n",
       "2019-09-04 16:53:00         first  16:53:00  \n",
       "2019-09-04 16:54:00      checkout  16:54:00  \n",
       "\n",
       "[63899 rows x 6 columns]"
      ]
     },
     "execution_count": 37,
     "metadata": {},
     "output_type": "execute_result"
    }
   ],
   "source": [
    "full_data.reset_index().sort_values(by=['customer_id', 'timestamp']).set_index('timestamp').copy()"
   ]
  },
  {
   "cell_type": "code",
   "execution_count": 38,
   "metadata": {
    "scrolled": true
   },
   "outputs": [
    {
     "data": {
      "text/plain": [
       "timestamp\n",
       "2019-09-06 07:05:00      1\n",
       "2019-09-06 07:00:00      1\n",
       "2019-09-06 07:04:00      1\n",
       "2019-09-06 07:03:00      1\n",
       "2019-09-06 07:02:00      1\n",
       "                      ... \n",
       "2019-09-04 16:53:00    998\n",
       "2019-09-04 16:58:00    998\n",
       "2019-09-04 16:54:00    998\n",
       "2019-09-04 16:53:00    999\n",
       "2019-09-04 16:54:00    999\n",
       "Name: customer_no, Length: 63899, dtype: int64"
      ]
     },
     "execution_count": 38,
     "metadata": {},
     "output_type": "execute_result"
    }
   ],
   "source": [
    "final_data['location'].fillna(method='ffill', inplace=True)\n",
    "final_data['section_order'].fillna(method='ffill', inplace=True)\n",
    "final_data['customer_no'].fillna(method='ffill', inplace=True)\n",
    "final_data['customer_no'].astype(int)"
   ]
  },
  {
   "cell_type": "code",
   "execution_count": 39,
   "metadata": {},
   "outputs": [],
   "source": [
    "final_data['day'] = final_data.index.day_name()\n",
    "final_data['time'] = final_data.index.time"
   ]
  },
  {
   "cell_type": "code",
   "execution_count": 40,
   "metadata": {},
   "outputs": [
    {
     "data": {
      "text/html": [
       "<div>\n",
       "<style scoped>\n",
       "    .dataframe tbody tr th:only-of-type {\n",
       "        vertical-align: middle;\n",
       "    }\n",
       "\n",
       "    .dataframe tbody tr th {\n",
       "        vertical-align: top;\n",
       "    }\n",
       "\n",
       "    .dataframe thead th {\n",
       "        text-align: right;\n",
       "    }\n",
       "</style>\n",
       "<table border=\"1\" class=\"dataframe\">\n",
       "  <thead>\n",
       "    <tr style=\"text-align: right;\">\n",
       "      <th></th>\n",
       "      <th>customer_id</th>\n",
       "    </tr>\n",
       "    <tr>\n",
       "      <th>time</th>\n",
       "      <th></th>\n",
       "    </tr>\n",
       "  </thead>\n",
       "  <tbody>\n",
       "    <tr>\n",
       "      <th>07:00:00</th>\n",
       "      <td>2.0</td>\n",
       "    </tr>\n",
       "    <tr>\n",
       "      <th>07:01:00</th>\n",
       "      <td>3.4</td>\n",
       "    </tr>\n",
       "    <tr>\n",
       "      <th>07:02:00</th>\n",
       "      <td>3.6</td>\n",
       "    </tr>\n",
       "    <tr>\n",
       "      <th>07:03:00</th>\n",
       "      <td>5.6</td>\n",
       "    </tr>\n",
       "    <tr>\n",
       "      <th>07:04:00</th>\n",
       "      <td>7.2</td>\n",
       "    </tr>\n",
       "    <tr>\n",
       "      <th>...</th>\n",
       "      <td>...</td>\n",
       "    </tr>\n",
       "    <tr>\n",
       "      <th>21:46:00</th>\n",
       "      <td>8.0</td>\n",
       "    </tr>\n",
       "    <tr>\n",
       "      <th>21:47:00</th>\n",
       "      <td>7.2</td>\n",
       "    </tr>\n",
       "    <tr>\n",
       "      <th>21:48:00</th>\n",
       "      <td>7.6</td>\n",
       "    </tr>\n",
       "    <tr>\n",
       "      <th>21:49:00</th>\n",
       "      <td>4.6</td>\n",
       "    </tr>\n",
       "    <tr>\n",
       "      <th>21:50:00</th>\n",
       "      <td>1.8</td>\n",
       "    </tr>\n",
       "  </tbody>\n",
       "</table>\n",
       "<p>891 rows × 1 columns</p>\n",
       "</div>"
      ],
      "text/plain": [
       "          customer_id\n",
       "time                 \n",
       "07:00:00          2.0\n",
       "07:01:00          3.4\n",
       "07:02:00          3.6\n",
       "07:03:00          5.6\n",
       "07:04:00          7.2\n",
       "...               ...\n",
       "21:46:00          8.0\n",
       "21:47:00          7.2\n",
       "21:48:00          7.6\n",
       "21:49:00          4.6\n",
       "21:50:00          1.8\n",
       "\n",
       "[891 rows x 1 columns]"
      ]
     },
     "execution_count": 40,
     "metadata": {},
     "output_type": "execute_result"
    }
   ],
   "source": [
    "# average number of customers present per minute\n",
    "final_data.groupby('time')[['customer_id']].count() / 5"
   ]
  },
  {
   "cell_type": "code",
   "execution_count": 41,
   "metadata": {
    "scrolled": true
   },
   "outputs": [
    {
     "data": {
      "text/html": [
       "<div>\n",
       "<style scoped>\n",
       "    .dataframe tbody tr th:only-of-type {\n",
       "        vertical-align: middle;\n",
       "    }\n",
       "\n",
       "    .dataframe tbody tr th {\n",
       "        vertical-align: top;\n",
       "    }\n",
       "\n",
       "    .dataframe thead th {\n",
       "        text-align: right;\n",
       "    }\n",
       "</style>\n",
       "<table border=\"1\" class=\"dataframe\">\n",
       "  <thead>\n",
       "    <tr style=\"text-align: right;\">\n",
       "      <th></th>\n",
       "      <th>customer_id</th>\n",
       "    </tr>\n",
       "    <tr>\n",
       "      <th>timestamp</th>\n",
       "      <th></th>\n",
       "    </tr>\n",
       "  </thead>\n",
       "  <tbody>\n",
       "    <tr>\n",
       "      <th>2019-09-02 07:03:00</th>\n",
       "      <td>2</td>\n",
       "    </tr>\n",
       "    <tr>\n",
       "      <th>2019-09-02 07:04:00</th>\n",
       "      <td>8</td>\n",
       "    </tr>\n",
       "    <tr>\n",
       "      <th>2019-09-02 07:05:00</th>\n",
       "      <td>10</td>\n",
       "    </tr>\n",
       "    <tr>\n",
       "      <th>2019-09-02 07:06:00</th>\n",
       "      <td>12</td>\n",
       "    </tr>\n",
       "    <tr>\n",
       "      <th>2019-09-02 07:07:00</th>\n",
       "      <td>13</td>\n",
       "    </tr>\n",
       "    <tr>\n",
       "      <th>...</th>\n",
       "      <td>...</td>\n",
       "    </tr>\n",
       "    <tr>\n",
       "      <th>2019-09-06 21:46:00</th>\n",
       "      <td>9</td>\n",
       "    </tr>\n",
       "    <tr>\n",
       "      <th>2019-09-06 21:47:00</th>\n",
       "      <td>8</td>\n",
       "    </tr>\n",
       "    <tr>\n",
       "      <th>2019-09-06 21:48:00</th>\n",
       "      <td>11</td>\n",
       "    </tr>\n",
       "    <tr>\n",
       "      <th>2019-09-06 21:49:00</th>\n",
       "      <td>8</td>\n",
       "    </tr>\n",
       "    <tr>\n",
       "      <th>2019-09-06 21:50:00</th>\n",
       "      <td>6</td>\n",
       "    </tr>\n",
       "  </tbody>\n",
       "</table>\n",
       "<p>4447 rows × 1 columns</p>\n",
       "</div>"
      ],
      "text/plain": [
       "                     customer_id\n",
       "timestamp                       \n",
       "2019-09-02 07:03:00            2\n",
       "2019-09-02 07:04:00            8\n",
       "2019-09-02 07:05:00           10\n",
       "2019-09-02 07:06:00           12\n",
       "2019-09-02 07:07:00           13\n",
       "...                          ...\n",
       "2019-09-06 21:46:00            9\n",
       "2019-09-06 21:47:00            8\n",
       "2019-09-06 21:48:00           11\n",
       "2019-09-06 21:49:00            8\n",
       "2019-09-06 21:50:00            6\n",
       "\n",
       "[4447 rows x 1 columns]"
      ]
     },
     "execution_count": 41,
     "metadata": {},
     "output_type": "execute_result"
    }
   ],
   "source": [
    "# total number of customers present at any given timestamp\n",
    "final_data.groupby('timestamp')[['customer_id']].count()"
   ]
  },
  {
   "cell_type": "code",
   "execution_count": 43,
   "metadata": {},
   "outputs": [
    {
     "data": {
      "text/plain": [
       "datetime.time(7, 0)"
      ]
     },
     "execution_count": 43,
     "metadata": {},
     "output_type": "execute_result"
    }
   ],
   "source": [
    "pd.to_datetime('07:00').time()"
   ]
  },
  {
   "cell_type": "code",
   "execution_count": 44,
   "metadata": {},
   "outputs": [
    {
     "data": {
      "text/plain": [
       "<matplotlib.axes._subplots.AxesSubplot at 0x7f7b741bf1c0>"
      ]
     },
     "execution_count": 44,
     "metadata": {},
     "output_type": "execute_result"
    },
    {
     "data": {
      "image/png": "[encoded data removed]",
      "text/plain": [
       "<Figure size 864x576 with 1 Axes>"
      ]
     },
     "metadata": {
      "needs_background": "light"
     },
     "output_type": "display_data"
    }
   ],
   "source": [
    "# distribution over week\n",
    "final_data.groupby(final_data.index)[['customer_id']].count().plot(figsize=(12,8))"
   ]
  },
  {
   "cell_type": "code",
   "execution_count": 45,
   "metadata": {},
   "outputs": [
    {
     "data": {
      "text/plain": [
       "<matplotlib.axes._subplots.AxesSubplot at 0x7f7b721121c0>"
      ]
     },
     "execution_count": 45,
     "metadata": {},
     "output_type": "execute_result"
    },
    {
     "data": {
      "image/png": "[encoded data removed]",
      "text/plain": [
       "<Figure size 864x576 with 1 Axes>"
      ]
     },
     "metadata": {
      "needs_background": "light"
     },
     "output_type": "display_data"
    }
   ],
   "source": [
    "# daily distribution\n",
    "(final_data.groupby(final_data.time)[['customer_id']].count() / 5).plot(figsize=(12,8))"
   ]
  },
  {
   "cell_type": "markdown",
   "metadata": {},
   "source": [
    "### Plot the distribution of customers of their first visited section versus following sections"
   ]
  },
  {
   "cell_type": "code",
   "execution_count": 46,
   "metadata": {},
   "outputs": [],
   "source": [
    "# Our business managers think that the first section customers \n",
    "# visit follows a different pattern than the following ones. \n",
    "# Plot the distribution of customers of their first visited section \n",
    "# versus following sections (treat all sections visited \n",
    "# after the first as “following”)."
   ]
  },
  {
   "cell_type": "code",
   "execution_count": 47,
   "metadata": {},
   "outputs": [],
   "source": [
    "customers_in_first = (final_data[final_data['section_order'] == 'first'].groupby(['time'])[['customer_id']].count() / 5)\n",
    "customers_in_following = (final_data[final_data['section_order'] == 'following'].groupby(['time'])[['customer_no']].count() / 5)"
   ]
  },
  {
   "cell_type": "code",
   "execution_count": 48,
   "metadata": {},
   "outputs": [
    {
     "data": {
      "text/plain": [
       "<matplotlib.axes._subplots.AxesSubplot at 0x7f7b703b2430>"
      ]
     },
     "execution_count": 48,
     "metadata": {},
     "output_type": "execute_result"
    },
    {
     "data": {
      "image/png": "[encoded data removed]",
      "text/plain": [
       "<Figure size 432x288 with 1 Axes>"
      ]
     },
     "metadata": {
      "needs_background": "light"
     },
     "output_type": "display_data"
    },
    {
     "data": {
      "image/png": "[encoded data removed]",
      "text/plain": [
       "<Figure size 432x288 with 1 Axes>"
      ]
     },
     "metadata": {
      "needs_background": "light"
     },
     "output_type": "display_data"
    }
   ],
   "source": [
    "customers_in_first.plot()\n",
    "customers_in_following.plot()"
   ]
  },
  {
   "cell_type": "markdown",
   "metadata": {},
   "source": [
    "### Estimate the total revenue per customer"
   ]
  },
  {
   "cell_type": "code",
   "execution_count": 49,
   "metadata": {},
   "outputs": [
    {
     "data": {
      "text/html": [
       "<div>\n",
       "<style scoped>\n",
       "    .dataframe tbody tr th:only-of-type {\n",
       "        vertical-align: middle;\n",
       "    }\n",
       "\n",
       "    .dataframe tbody tr th {\n",
       "        vertical-align: top;\n",
       "    }\n",
       "\n",
       "    .dataframe thead th {\n",
       "        text-align: right;\n",
       "    }\n",
       "</style>\n",
       "<table border=\"1\" class=\"dataframe\">\n",
       "  <thead>\n",
       "    <tr style=\"text-align: right;\">\n",
       "      <th></th>\n",
       "      <th>location</th>\n",
       "      <th>revenue</th>\n",
       "    </tr>\n",
       "  </thead>\n",
       "  <tbody>\n",
       "    <tr>\n",
       "      <th>0</th>\n",
       "      <td>fruit</td>\n",
       "      <td>4</td>\n",
       "    </tr>\n",
       "    <tr>\n",
       "      <th>1</th>\n",
       "      <td>spices</td>\n",
       "      <td>3</td>\n",
       "    </tr>\n",
       "    <tr>\n",
       "      <th>2</th>\n",
       "      <td>dairy</td>\n",
       "      <td>5</td>\n",
       "    </tr>\n",
       "    <tr>\n",
       "      <th>3</th>\n",
       "      <td>drinks</td>\n",
       "      <td>6</td>\n",
       "    </tr>\n",
       "  </tbody>\n",
       "</table>\n",
       "</div>"
      ],
      "text/plain": [
       "  location  revenue\n",
       "0    fruit        4\n",
       "1   spices        3\n",
       "2    dairy        5\n",
       "3   drinks        6"
      ]
     },
     "execution_count": 49,
     "metadata": {},
     "output_type": "execute_result"
    }
   ],
   "source": [
    "revenues = pd.DataFrame({'location':['fruit', 'spices', 'dairy', 'drinks'], 'revenue':[4,3,5,6]})\n",
    "revenues"
   ]
  },
  {
   "cell_type": "code",
   "execution_count": 50,
   "metadata": {},
   "outputs": [],
   "source": [
    "final_data.loc[final_data['location'] == 'fruit', 'revenue'] = '4'\n",
    "final_data.loc[final_data['location'] == 'spices', 'revenue'] = '3'\n",
    "final_data.loc[final_data['location'] == 'dairy', 'revenue'] = '5'\n",
    "final_data.loc[final_data['location'] == 'drinks', 'revenue'] = '6'\n",
    "final_data.loc[final_data['location'] == 'checkout', 'revenue'] = '0'"
   ]
  },
  {
   "cell_type": "code",
   "execution_count": 51,
   "metadata": {},
   "outputs": [],
   "source": [
    "final_data['revenue'] = final_data['revenue'].astype(int)"
   ]
  },
  {
   "cell_type": "code",
   "execution_count": 52,
   "metadata": {},
   "outputs": [
    {
     "data": {
      "text/html": [
       "<div>\n",
       "<style scoped>\n",
       "    .dataframe tbody tr th:only-of-type {\n",
       "        vertical-align: middle;\n",
       "    }\n",
       "\n",
       "    .dataframe tbody tr th {\n",
       "        vertical-align: top;\n",
       "    }\n",
       "\n",
       "    .dataframe thead th {\n",
       "        text-align: right;\n",
       "    }\n",
       "</style>\n",
       "<table border=\"1\" class=\"dataframe\">\n",
       "  <thead>\n",
       "    <tr style=\"text-align: right;\">\n",
       "      <th></th>\n",
       "      <th>revenue</th>\n",
       "    </tr>\n",
       "    <tr>\n",
       "      <th>customer_id</th>\n",
       "      <th></th>\n",
       "    </tr>\n",
       "  </thead>\n",
       "  <tbody>\n",
       "    <tr>\n",
       "      <th>Thursday-1047</th>\n",
       "      <td>317</td>\n",
       "    </tr>\n",
       "    <tr>\n",
       "      <th>Monday-666</th>\n",
       "      <td>289</td>\n",
       "    </tr>\n",
       "    <tr>\n",
       "      <th>Friday-102</th>\n",
       "      <td>267</td>\n",
       "    </tr>\n",
       "    <tr>\n",
       "      <th>Wednesday-1408</th>\n",
       "      <td>245</td>\n",
       "    </tr>\n",
       "    <tr>\n",
       "      <th>Friday-1238</th>\n",
       "      <td>244</td>\n",
       "    </tr>\n",
       "    <tr>\n",
       "      <th>...</th>\n",
       "      <td>...</td>\n",
       "    </tr>\n",
       "    <tr>\n",
       "      <th>Monday-336</th>\n",
       "      <td>3</td>\n",
       "    </tr>\n",
       "    <tr>\n",
       "      <th>Friday-1174</th>\n",
       "      <td>3</td>\n",
       "    </tr>\n",
       "    <tr>\n",
       "      <th>Friday-760</th>\n",
       "      <td>3</td>\n",
       "    </tr>\n",
       "    <tr>\n",
       "      <th>Wednesday-439</th>\n",
       "      <td>3</td>\n",
       "    </tr>\n",
       "    <tr>\n",
       "      <th>Thursday-1381</th>\n",
       "      <td>3</td>\n",
       "    </tr>\n",
       "  </tbody>\n",
       "</table>\n",
       "<p>7445 rows × 1 columns</p>\n",
       "</div>"
      ],
      "text/plain": [
       "                revenue\n",
       "customer_id            \n",
       "Thursday-1047       317\n",
       "Monday-666          289\n",
       "Friday-102          267\n",
       "Wednesday-1408      245\n",
       "Friday-1238         244\n",
       "...                 ...\n",
       "Monday-336            3\n",
       "Friday-1174           3\n",
       "Friday-760            3\n",
       "Wednesday-439         3\n",
       "Thursday-1381         3\n",
       "\n",
       "[7445 rows x 1 columns]"
      ]
     },
     "execution_count": 52,
     "metadata": {},
     "output_type": "execute_result"
    }
   ],
   "source": [
    "final_data.groupby('customer_id')[['revenue']].sum().sort_values('revenue', ascending=False)"
   ]
  },
  {
   "cell_type": "markdown",
   "metadata": {},
   "source": [
    "### Which is the most profitable section according to your data?"
   ]
  },
  {
   "cell_type": "code",
   "execution_count": 53,
   "metadata": {},
   "outputs": [
    {
     "data": {
      "text/html": [
       "<div>\n",
       "<style scoped>\n",
       "    .dataframe tbody tr th:only-of-type {\n",
       "        vertical-align: middle;\n",
       "    }\n",
       "\n",
       "    .dataframe tbody tr th {\n",
       "        vertical-align: top;\n",
       "    }\n",
       "\n",
       "    .dataframe thead th {\n",
       "        text-align: right;\n",
       "    }\n",
       "</style>\n",
       "<table border=\"1\" class=\"dataframe\">\n",
       "  <thead>\n",
       "    <tr style=\"text-align: right;\">\n",
       "      <th></th>\n",
       "      <th>revenue</th>\n",
       "    </tr>\n",
       "    <tr>\n",
       "      <th>location</th>\n",
       "      <th></th>\n",
       "    </tr>\n",
       "  </thead>\n",
       "  <tbody>\n",
       "    <tr>\n",
       "      <th>dairy</th>\n",
       "      <td>64980</td>\n",
       "    </tr>\n",
       "    <tr>\n",
       "      <th>drinks</th>\n",
       "      <td>60396</td>\n",
       "    </tr>\n",
       "    <tr>\n",
       "      <th>fruit</th>\n",
       "      <td>52616</td>\n",
       "    </tr>\n",
       "    <tr>\n",
       "      <th>spices</th>\n",
       "      <td>29445</td>\n",
       "    </tr>\n",
       "    <tr>\n",
       "      <th>checkout</th>\n",
       "      <td>0</td>\n",
       "    </tr>\n",
       "  </tbody>\n",
       "</table>\n",
       "</div>"
      ],
      "text/plain": [
       "          revenue\n",
       "location         \n",
       "dairy       64980\n",
       "drinks      60396\n",
       "fruit       52616\n",
       "spices      29445\n",
       "checkout        0"
      ]
     },
     "execution_count": 53,
     "metadata": {},
     "output_type": "execute_result"
    }
   ],
   "source": [
    "final_data.groupby('location')[['revenue']].sum().sort_values(by='revenue', ascending=False)"
   ]
  }
 ],
 "metadata": {
  "kernelspec": {
   "display_name": "Python 3",
   "language": "python",
   "name": "python3"
  },
  "language_info": {
   "codemirror_mode": {
    "name": "ipython",
    "version": 3
   },
   "file_extension": ".py",
   "mimetype": "text/x-python",
   "name": "python",
   "nbconvert_exporter": "python",
   "pygments_lexer": "ipython3",
   "version": "3.8.3"
  }
 },
 "nbformat": 4,
 "nbformat_minor": 4
}
